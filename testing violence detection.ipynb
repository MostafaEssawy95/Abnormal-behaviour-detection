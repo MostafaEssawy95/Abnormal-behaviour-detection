{
 "cells": [
  {
   "cell_type": "code",
   "execution_count": 13,
   "id": "06d60434",
   "metadata": {},
   "outputs": [],
   "source": [
    "import cv2\n",
    "import os\n",
    "import numpy as np\n",
    "import time"
   ]
  },
  {
   "cell_type": "code",
   "execution_count": 2,
   "id": "30b675bb",
   "metadata": {},
   "outputs": [],
   "source": [
    "#violent_videos_folder=r'C:\\myfiles\\violence detection pytorch\\final_violent_videos'\n",
    "#all_violent_videos=os.listdir(violent_videos_folder)"
   ]
  },
  {
   "cell_type": "code",
   "execution_count": 1,
   "id": "a6547cec",
   "metadata": {},
   "outputs": [],
   "source": [
    "import cv2\n",
    "import os\n",
    "import numpy as np\n",
    "videos_folder=r'C:\\myfiles\\manual dataset\\non violent videos'\n",
    "violent_videos=os.listdir(videos_folder)\n",
    "count=1\n",
    "for i in range(len(violent_videos)):\n",
    "    \n",
    "    cap=cv2.VideoCapture(os.path.join(videos_folder,violent_videos[i]))\n",
    "    while (cap.isOpened()):\n",
    "        success,frame=cap.read()\n",
    "        if success ==False:\n",
    "                break\n",
    "        cv2.imwrite(r'C:\\myfiles\\final dataset\\non violent frames\\\\'+'non violent '+str(count)+'.jpg',frame)\n",
    "        count+=1\n",
    "    \n",
    "    cap.release()\n",
    "    cv2.destroyAllWindows()  "
   ]
  },
  {
   "cell_type": "code",
   "execution_count": 14,
   "id": "cbad4f71",
   "metadata": {},
   "outputs": [],
   "source": [
    "import torch\n",
    "import torch.nn as nn\n",
    "from torch_snippets import *\n",
    "from torchvision import transforms\n",
    "from sklearn.model_selection import train_test_split\n",
    "device = 'cuda' if torch.cuda.is_available() else 'cpu'\n",
    "import cv2\n",
    "import os\n",
    "import matplotlib.pyplot as plt\n",
    "from PIL import Image\n",
    "import os  \n",
    "import torch\n",
    "import torch.nn as nn\n",
    "from torch_snippets import *\n",
    "from torchvision import transforms\n",
    "from sklearn.model_selection import train_test_split\n",
    "device = 'cuda' if torch.cuda.is_available() else 'cpu'\n",
    "import cv2\n",
    "import os\n",
    "import matplotlib.pyplot as plt\n",
    "from PIL import Image\n",
    "import os"
   ]
  },
  {
   "cell_type": "code",
   "execution_count": 15,
   "id": "4b45e0ff",
   "metadata": {},
   "outputs": [],
   "source": [
    "class violence_dataset(Dataset):\n",
    "    def __init__(self,folder):\n",
    "        #if folder =='training':\n",
    "        #    self.frames=r'C:\\myfiles\\new_violence_detection\\all_training'\n",
    "        #    self.items=os.listdir(r'C:\\myfiles\\new_violence_detection\\all_training')\n",
    "    \n",
    "        if folder=='testing':\n",
    "            self.frames=r'C:\\myfiles\\final dataset\\all_testing'\n",
    "            self.items=os.listdir(r'C:\\myfiles\\final dataset\\all_testing')\n",
    "            \n",
    "    def __getitem__(self,ix):\n",
    "        temp=ix\n",
    "        if self.frames==r'C:\\myfiles\\final dataset\\all_testing':\n",
    "            total_images_list=[]\n",
    "            count=0\n",
    "            local_images=[]\n",
    "            image1=cv2.imread(os.path.join(self.frames,os.listdir(self.frames)[ix+9*ix]))\n",
    "            image1=cv2.resize(image1,(100,100))\n",
    "            image1=torch.Tensor(image1).permute(2,0,1)\n",
    "            #image1=torch.unsqueeze(image1,0)\n",
    "            #local_images.append(image)\n",
    "            image2=cv2.imread(os.path.join(self.frames,os.listdir(self.frames)[ix+1+9*ix]))\n",
    "            image2=cv2.resize(image2,(100,100))\n",
    "            image2=torch.Tensor(image2).permute(2,0,1)\n",
    "            #image2=torch.unsqueeze(image2,0)\n",
    "            #local_images.append(image)\n",
    "            image3=cv2.imread(os.path.join(self.frames,os.listdir(self.frames)[ix+2+9*ix]))\n",
    "            image3=cv2.resize(image3,(100,100))\n",
    "            image3=torch.Tensor(image3).permute(2,0,1)\n",
    "            #image3=torch.unsqueeze(image3,0)\n",
    "            #local_images.append(image)\n",
    "            image4=cv2.imread(os.path.join(self.frames,os.listdir(self.frames)[ix+3+9*ix]))\n",
    "            image4=cv2.resize(image4,(100,100))\n",
    "            image4=torch.Tensor(image4).permute(2,0,1)\n",
    "            #image4=torch.unsqueeze(image4,0)\n",
    "            #local_images.append(image)\n",
    "            image5=cv2.imread(os.path.join(self.frames,os.listdir(self.frames)[ix+4+9*ix]))\n",
    "            image5=cv2.resize(image5,(100,100))\n",
    "            image5=torch.Tensor(image5).permute(2,0,1)\n",
    "            #image5=torch.unsqueeze(image5,0)\n",
    "            #local_images.append(image)\n",
    "            image6=cv2.imread(os.path.join(self.frames,os.listdir(self.frames)[ix+5+9*ix]))\n",
    "            image6=cv2.resize(image6,(100,100))\n",
    "            image6=torch.Tensor(image6).permute(2,0,1)\n",
    "            #image6=torch.unsqueeze(image6,0)\n",
    "            #local_images.append(image)\n",
    "            image7=cv2.imread(os.path.join(self.frames,os.listdir(self.frames)[ix+6+9*ix]))\n",
    "            image7=cv2.resize(image7,(100,100))\n",
    "            image7=torch.Tensor(image7).permute(2,0,1)\n",
    "            #image7=torch.unsqueeze(image7,0)\n",
    "            #local_images.append(image)\n",
    "            image8=cv2.imread(os.path.join(self.frames,os.listdir(self.frames)[ix+7+9*ix]))\n",
    "            image8=cv2.resize(image8,(100,100))\n",
    "            image8=torch.Tensor(image8).permute(2,0,1)\n",
    "            #image8=torch.unsqueeze(image8,0)\n",
    "            #local_images.append(image)\n",
    "            image9=cv2.imread(os.path.join(self.frames,os.listdir(self.frames)[ix+8+9*ix]))\n",
    "            image9=cv2.resize(image9,(100,100))\n",
    "            image9=torch.Tensor(image9).permute(2,0,1)\n",
    "            #image9=torch.unsqueeze(image9,0)\n",
    "            #local_images.append(image)\n",
    "            image10=cv2.imread(os.path.join(self.frames,os.listdir(self.frames)[ix+9+9*ix]))\n",
    "            image10=cv2.resize(image10,(100,100))\n",
    "            image10=torch.Tensor(image10).permute(2,0,1)\n",
    "            #image10=torch.unsqueeze(image10,0)\n",
    "            #image=torch.cat((image1,image2,image3,image4,image5,image6,image7,image8,image9,image10),0)\n",
    "            image_path=os.path.join(self.frames,os.listdir(self.frames)[ix+9*ix])\n",
    "            if image_path.split('\\\\')[-1][0]=='n':\n",
    "                    label=torch.Tensor([0]).long()\n",
    "            elif  image_path.split('\\\\')[-1][0]=='v':\n",
    "                    label=torch.Tensor([1]).long() \n",
    "            #total_frame=torch.cat((image1,image2,image3,image4,image5,image6,image7,image8,image9,image10),0 )       \n",
    "                    \n",
    "            return image1.to(device),image2.to(device),image3.to(device),image4.to(device),image5.to(device),image6.to(device),image7.to(device),image8.to(device),image9.to(device),image10.to(device),label.to(device)        \n",
    "            #return total_frame        \n",
    "    def __len__(self):\n",
    "        return int(len(self.items)/10)            \n",
    "            "
   ]
  },
  {
   "cell_type": "code",
   "execution_count": 16,
   "id": "eded218b",
   "metadata": {},
   "outputs": [],
   "source": [
    "test_ds=violence_dataset('testing')\n",
    "test_dl = DataLoader(test_ds, batch_size=1, shuffle=True)\n"
   ]
  },
  {
   "cell_type": "code",
   "execution_count": 17,
   "id": "69573b78",
   "metadata": {},
   "outputs": [],
   "source": [
    "from torchvision.models import vgg16_bn\n",
    "class violent_net(nn.Module):\n",
    "    def __init__(self, pretrained=True):\n",
    "            super().__init__()\n",
    "            self.encoder = vgg16_bn(pretrained=pretrained).features  \n",
    "            self.convblock=nn.Sequential(*self.encoder[:])\n",
    "            self.flatten=nn.Flatten()\n",
    "            self.lstm=nn.LSTM(input_size=4608, hidden_size=20, num_layers=2,bidirectional=True)\n",
    "            self.flatten=nn.Flatten()\n",
    "            self.linear1=nn.Linear(400,32)\n",
    "            self.activation1=nn.ReLU()\n",
    "            self.linear2=nn.Linear(32,16)\n",
    "            self.activation2=nn.ReLU()\n",
    "            self.linear3=nn.Linear(16,2)\n",
    "            self.activation3=nn.Softmax(dim=1)\n",
    "            \n",
    "    def forward(self, x1,x2,x3,x4,x5,x6,x7,x8,x9,x10):\n",
    "        x1 = self.convblock(x1)\n",
    "        x1=self.flatten(x1)\n",
    "        x2 = self.convblock(x2)\n",
    "        x2=self.flatten(x2)\n",
    "        x3 = self.convblock(x3)\n",
    "        x3=self.flatten(x3)\n",
    "        x4 = self.convblock(x4)\n",
    "        x4=self.flatten(x4)\n",
    "        x5 = self.convblock(x5)\n",
    "        x5=self.flatten(x5)\n",
    "        x6 = self.convblock(x6)\n",
    "        x6=self.flatten(x6)\n",
    "        x7 = self.convblock(x7)\n",
    "        x7=self.flatten(x7)\n",
    "        x8 = self.convblock(x8)\n",
    "        x8=self.flatten(x8)\n",
    "        x9 = self.convblock(x9)\n",
    "        x9=self.flatten(x9)\n",
    "        x10 = self.convblock(x10)\n",
    "        x10=self.flatten(x10)\n",
    "        x=torch.cat((x1,x2,x3,x4,x5,x6,x7,x8,x9,x10),0)\n",
    "        x=torch.unsqueeze(x,1)\n",
    "        x=self.lstm(x)\n",
    "        x=torch.cat((x[0][0],x[0][1],x[0][2],x[0][3],x[0][4],x[0][5],x[0][6],x[0][7],x[0][8],x[0][9]),1)\n",
    "        x=self.flatten(x)\n",
    "        x=self.linear1(x)\n",
    "        x=self.activation1(x)\n",
    "        x=self.linear2(x)\n",
    "        x=self.activation2(x)\n",
    "        x=self.linear3(x)\n",
    "        #x=self.activation3(x)\n",
    "        \n",
    "        \n",
    "       # return x1,x2,x3,x4,x5,x6,x7,x8,x9,x10\n",
    "        return x"
   ]
  },
  {
   "cell_type": "code",
   "execution_count": 18,
   "id": "874f2842",
   "metadata": {},
   "outputs": [
    {
     "data": {
      "text/plain": [
       "<All keys matched successfully>"
      ]
     },
     "execution_count": 18,
     "metadata": {},
     "output_type": "execute_result"
    }
   ],
   "source": [
    "model = violent_net()\n",
    "model.load_state_dict(torch.load(r'C:\\myfiles\\lastgpmodel.pt'))"
   ]
  },
  {
   "cell_type": "code",
   "execution_count": 19,
   "id": "4da368bd",
   "metadata": {},
   "outputs": [],
   "source": [
    "model=model.to(device)"
   ]
  },
  {
   "cell_type": "code",
   "execution_count": 20,
   "id": "545e9b32",
   "metadata": {},
   "outputs": [],
   "source": [
    "from sklearn.metrics import confusion_matrix\n",
    "import seaborn as sn\n",
    "import pandas as pd\n",
    "y_pred = []\n",
    "y_true = []\n",
    "\n",
    "# iterate over test data\n",
    "for input1,input2,input3,input4,input5,input6,input7,input8,input9,input10, labels in test_dl:\n",
    "        output = model(input1,input2,input3,input4,input5,input6,input7,input8,input9,input10) # Feed Network\n",
    "\n",
    "        output = (torch.max(torch.exp(output), 1)[1]).data.cpu().numpy()\n",
    "        y_pred.extend(output) # Save Prediction\n",
    "        \n",
    "        labels = labels.data.cpu().numpy()\n",
    "        y_true.extend(labels) # Save Truth"
   ]
  },
  {
   "cell_type": "code",
   "execution_count": 21,
   "id": "8b021933",
   "metadata": {},
   "outputs": [
    {
     "data": {
      "text/plain": [
       "array([[ 84,  40],\n",
       "       [ 23, 102]], dtype=int64)"
      ]
     },
     "execution_count": 21,
     "metadata": {},
     "output_type": "execute_result"
    }
   ],
   "source": [
    "classes = ('not violent', 'violent')\n",
    "\n",
    "# Build confusion matrix\n",
    "cf_matrix = confusion_matrix(y_true, y_pred)\n",
    "\n",
    "cf_matrix"
   ]
  },
  {
   "cell_type": "code",
   "execution_count": 22,
   "id": "36e103c1",
   "metadata": {},
   "outputs": [
    {
     "data": {
      "text/plain": [
       "<AxesSubplot:>"
      ]
     },
     "execution_count": 22,
     "metadata": {},
     "output_type": "execute_result"
    },
    {
     "data": {
      "image/png": "[encoded data removed]",
      "text/plain": [
       "<Figure size 864x504 with 2 Axes>"
      ]
     },
     "metadata": {
      "needs_background": "light"
     },
     "output_type": "display_data"
    }
   ],
   "source": [
    "df_cm = pd.DataFrame(cf_matrix, index = [i for i in classes],\n",
    "                    columns = [i for i in classes])\n",
    "plt.figure(figsize = (12,7))\n",
    "sn.heatmap(df_cm, annot=True)"
   ]
  },
  {
   "cell_type": "code",
   "execution_count": 12,
   "id": "b5351d0c",
   "metadata": {},
   "outputs": [
    {
     "name": "stdout",
     "output_type": "stream",
     "text": [
      "              precision    recall  f1-score   support\n",
      "\n",
      " non violent       0.79      0.68      0.73       124\n",
      "     violent       0.72      0.82      0.76       125\n",
      "\n",
      "    accuracy                           0.75       249\n",
      "   macro avg       0.75      0.75      0.75       249\n",
      "weighted avg       0.75      0.75      0.75       249\n",
      "\n"
     ]
    }
   ],
   "source": [
    "from sklearn.metrics import classification_report\n",
    "target_names = ['non violent', 'violent']    \n",
    "print(classification_report(y_true, y_pred, target_names=target_names))"
   ]
  },
  {
   "cell_type": "code",
   "execution_count": null,
   "id": "f6c40d69",
   "metadata": {},
   "outputs": [],
   "source": []
  }
 ],
 "metadata": {
  "kernelspec": {
   "display_name": "Python 3",
   "language": "python",
   "name": "python3"
  },
  "language_info": {
   "codemirror_mode": {
    "name": "ipython",
    "version": 3
   },
   "file_extension": ".py",
   "mimetype": "text/x-python",
   "name": "python",
   "nbconvert_exporter": "python",
   "pygments_lexer": "ipython3",
   "version": "3.8.8"
  }
 },
 "nbformat": 4,
 "nbformat_minor": 5
}
